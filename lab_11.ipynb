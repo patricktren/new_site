{
  "cells": [
    {
      "cell_type": "markdown",
      "metadata": {
        "id": "IPir_6bCCFnZ"
      },
      "source": [
        "<a href=\"https://colab.research.google.com/github/porterjenkins/CS180/blob/main/data_science_labs/data_science_lab_11.ipynb\" target=\"_parent\"><img src=\"https://colab.research.google.com/assets/colab-badge.svg\" alt=\"Open In Colab\"/></a><p><b>After clicking the \"Open in Colab\" link, copy the notebook to your own Google Drive before getting started, or it will not save your work</b></p>"
      ]
    },
    {
      "cell_type": "markdown",
      "metadata": {
        "id": "_slaQdUGCB0t"
      },
      "source": [
        "# BYU CS 180 Lab 11"
      ]
    },
    {
      "cell_type": "code",
      "execution_count": 2,
      "metadata": {
        "id": "Gaema31vjP8f"
      },
      "outputs": [],
      "source": [
        "# Dependencies for the lab\n",
        "import numpy as np\n",
        "import matplotlib.pyplot as plt\n",
        "import pandas as pd\n",
        "import sklearn"
      ]
    },
    {
      "cell_type": "markdown",
      "metadata": {
        "id": "ct7fnkcnCL8O"
      },
      "source": [
        "## Introduction:\n",
        "You will use the `sklearn` API to train various classifiers. Feel free to use any `sklearn`, `numpy`, or `pandas` function to help you with the lab.\n",
        "\n",
        "The 20 newsgroups dataset comprises around 18000 newsgroups posts on 20 topics. The 20 categories are:\n",
        "```\n",
        "['alt.atheism',\n",
        " 'comp.graphics',\n",
        " 'comp.os.ms-windows.misc',\n",
        " 'comp.sys.ibm.pc.hardware',\n",
        " 'comp.sys.mac.hardware',\n",
        " 'comp.windows.x',\n",
        " 'misc.forsale',\n",
        " 'rec.autos',\n",
        " 'rec.motorcycles',\n",
        " 'rec.sport.baseball',\n",
        " 'rec.sport.hockey',\n",
        " 'sci.crypt',\n",
        " 'sci.electronics',\n",
        " 'sci.med',\n",
        " 'sci.space',\n",
        " 'soc.religion.christian',\n",
        " 'talk.politics.guns',\n",
        " 'talk.politics.mideast',\n",
        " 'talk.politics.misc',\n",
        " 'talk.religion.misc']\n",
        "```\n",
        "The posts are raw text. For example:\n",
        "\n",
        "**Post:**\n",
        "```\n",
        "From: lerxst@wam.umd.edu (where's my thing)\n",
        "Subject: WHAT car is this!?\n",
        "Nntp-Posting-Host: rac3.wam.umd.edu\n",
        "Organization: University of Maryland, College Park\n",
        "Lines: 15\n",
        "\n",
        " I was wondering if anyone out there could enlighten me on this car I saw\n",
        "the other day. It was a 2-door sports car, looked to be from the late 60s/\n",
        "early 70s. It was called a Bricklin. The doors were really small. In addition,\n",
        "the front bumper was separate from the rest of the body. This is \n",
        "all I know. If anyone can tellme a model name, engine specs, years\n",
        "of production, where this car is made, history, or whatever info you\n",
        "have on this funky looking car, please e-mail.\n",
        "\n",
        "Thanks,\n",
        "- IL\n",
        "   ---- brought to you by your neighborhood Lerxst ----\n",
        "```\n",
        "\n",
        "**Target:**\n",
        "```\n",
        "'rec.autos'\n",
        "```\n",
        "\n",
        "Your task will be to build a classifier to predict the category of posts. You will do the following in this notebook:"
      ]
    },
    {
      "cell_type": "markdown",
      "metadata": {
        "id": "PUat5xRAcdrC"
      },
      "source": [
        "## Exercise 1: Retrieve the Data\n",
        "Download `fetch_20newsgroups` dataset"
      ]
    },
    {
      "cell_type": "code",
      "execution_count": 3,
      "metadata": {
        "id": "j1m2KIHShNdC"
      },
      "outputs": [],
      "source": [
        "from sklearn.datasets import fetch_20newsgroups\n",
        "data = fetch_20newsgroups()\n",
        "docs = data['data']\n",
        "targets = data[\"target\"]\n",
        "names = data.target_names"
      ]
    },
    {
      "cell_type": "code",
      "execution_count": 4,
      "metadata": {
        "colab": {
          "base_uri": "https://localhost:8080/"
        },
        "id": "JVcYefd6SFpn",
        "outputId": "fbef818d-b9ff-4612-edff-e689b6b843aa"
      },
      "outputs": [
        {
          "data": {
            "text/plain": [
              "array([7, 4, 4, ..., 3, 1, 8])"
            ]
          },
          "execution_count": 4,
          "metadata": {},
          "output_type": "execute_result"
        }
      ],
      "source": [
        "targets"
      ]
    },
    {
      "cell_type": "markdown",
      "metadata": {
        "id": "BXDLQKs3hUM8"
      },
      "source": [
        "Print off the first document and its target classification to make sure its been downloaded correctly "
      ]
    },
    {
      "cell_type": "code",
      "execution_count": 5,
      "metadata": {
        "colab": {
          "base_uri": "https://localhost:8080/"
        },
        "id": "-hfFbcRohgMf",
        "outputId": "0f494523-4697-4367-f537-280e86c6c681"
      },
      "outputs": [
        {
          "name": "stdout",
          "output_type": "stream",
          "text": [
            "From: lerxst@wam.umd.edu (where's my thing)\n",
            "Subject: WHAT car is this!?\n",
            "Nntp-Posting-Host: rac3.wam.umd.edu\n",
            "Organization: University of Maryland, College Park\n",
            "Lines: 15\n",
            "\n",
            " I was wondering if anyone out there could enlighten me on this car I saw\n",
            "the other day. It was a 2-door sports car, looked to be from the late 60s/\n",
            "early 70s. It was called a Bricklin. The doors were really small. In addition,\n",
            "the front bumper was separate from the rest of the body. This is \n",
            "all I know. If anyone can tellme a model name, engine specs, years\n",
            "of production, where this car is made, history, or whatever info you\n",
            "have on this funky looking car, please e-mail.\n",
            "\n",
            "Thanks,\n",
            "- IL\n",
            "   ---- brought to you by your neighborhood Lerxst ----\n",
            "\n",
            "\n",
            "\n",
            "\n",
            "\n",
            "\n",
            "7\n",
            "\n",
            "rec.autos\n"
          ]
        }
      ],
      "source": [
        "#Enter code here.\n",
        "print(docs[0])\n",
        "print()\n",
        "print(targets[0])\n",
        "print()\n",
        "print(names[7])"
      ]
    },
    {
      "cell_type": "code",
      "execution_count": 6,
      "metadata": {
        "colab": {
          "base_uri": "https://localhost:8080/"
        },
        "id": "g42G7sl7VMb5",
        "outputId": "a9944ac2-4190-4fbf-bb6c-7c966e35f46d"
      },
      "outputs": [
        {
          "name": "stdout",
          "output_type": "stream",
          "text": [
            "From: guykuo@carson.u.washington.edu (Guy Kuo)\n",
            "Subject: SI Clock Poll - Final Call\n",
            "Summary: Final call for SI clock reports\n",
            "Keywords: SI,acceleration,clock,upgrade\n",
            "Article-I.D.: shelley.1qvfo9INNc3s\n",
            "Organization: University of Washington\n",
            "Lines: 11\n",
            "NNTP-Posting-Host: carson.u.washington.edu\n",
            "\n",
            "A fair number of brave souls who upgraded their SI clock oscillator have\n",
            "shared their experiences for this poll. Please send a brief message detailing\n",
            "your experiences with the procedure. Top speed attained, CPU rated speed,\n",
            "add on cards and adapters, heat sinks, hour of usage per day, floppy disk\n",
            "functionality with 800 and 1.4 m floppies are especially requested.\n",
            "\n",
            "I will be summarizing in the next two days, so please add to the network\n",
            "knowledge base if you have done the clock upgrade and haven't answered this\n",
            "poll. Thanks.\n",
            "\n",
            "Guy Kuo <guykuo@u.washington.edu>\n",
            "\n"
          ]
        }
      ],
      "source": [
        "print(docs[1])"
      ]
    },
    {
      "cell_type": "markdown",
      "metadata": {
        "id": "RSUun4WVcl17"
      },
      "source": [
        "## Exercise 2: Understand the Data"
      ]
    },
    {
      "cell_type": "markdown",
      "metadata": {
        "id": "xJZbee3ihnqV"
      },
      "source": [
        "Perform some exploratory analysis on your data. Specifically, plot a bar chart showing distribution of the categories (classes)"
      ]
    },
    {
      "cell_type": "code",
      "execution_count": 7,
      "metadata": {
        "colab": {
          "base_uri": "https://localhost:8080/",
          "height": 1000
        },
        "id": "veGuUMbEhj5-",
        "outputId": "d0f15d89-685d-4e55-ee87-29a5693b9d34"
      },
      "outputs": [
        {
          "data": {
            "text/plain": [
              "([<matplotlib.axis.XTick at 0x18b02488d88>,\n",
              "  <matplotlib.axis.XTick at 0x18b02479ac8>,\n",
              "  <matplotlib.axis.XTick at 0x18b024696c8>,\n",
              "  <matplotlib.axis.XTick at 0x18b010d5e88>,\n",
              "  <matplotlib.axis.XTick at 0x18b010e6848>,\n",
              "  <matplotlib.axis.XTick at 0x18b010eb648>,\n",
              "  <matplotlib.axis.XTick at 0x18b010e6fc8>,\n",
              "  <matplotlib.axis.XTick at 0x18b010efa88>,\n",
              "  <matplotlib.axis.XTick at 0x18b010f17c8>,\n",
              "  <matplotlib.axis.XTick at 0x18b010f7508>,\n",
              "  <matplotlib.axis.XTick at 0x18b010fa348>,\n",
              "  <matplotlib.axis.XTick at 0x18b010fd1c8>,\n",
              "  <matplotlib.axis.XTick at 0x18b01100048>,\n",
              "  <matplotlib.axis.XTick at 0x18b010f11c8>,\n",
              "  <matplotlib.axis.XTick at 0x18b01100b08>,\n",
              "  <matplotlib.axis.XTick at 0x18b01108888>,\n",
              "  <matplotlib.axis.XTick at 0x18b0110a5c8>,\n",
              "  <matplotlib.axis.XTick at 0x18b0110e348>,\n",
              "  <matplotlib.axis.XTick at 0x18b011110c8>,\n",
              "  <matplotlib.axis.XTick at 0x18b01111e08>],\n",
              " [Text(0, 0, ''),\n",
              "  Text(0, 0, ''),\n",
              "  Text(0, 0, ''),\n",
              "  Text(0, 0, ''),\n",
              "  Text(0, 0, ''),\n",
              "  Text(0, 0, ''),\n",
              "  Text(0, 0, ''),\n",
              "  Text(0, 0, ''),\n",
              "  Text(0, 0, ''),\n",
              "  Text(0, 0, ''),\n",
              "  Text(0, 0, ''),\n",
              "  Text(0, 0, ''),\n",
              "  Text(0, 0, ''),\n",
              "  Text(0, 0, ''),\n",
              "  Text(0, 0, ''),\n",
              "  Text(0, 0, ''),\n",
              "  Text(0, 0, ''),\n",
              "  Text(0, 0, ''),\n",
              "  Text(0, 0, ''),\n",
              "  Text(0, 0, '')])"
            ]
          },
          "execution_count": 7,
          "metadata": {},
          "output_type": "execute_result"
        },
        {
          "data": {
            "image/png": "[encoded data removed]",
            "text/plain": [
              "<Figure size 640x480 with 1 Axes>"
            ]
          },
          "metadata": {},
          "output_type": "display_data"
        }
      ],
      "source": [
        "# Enter code here\n",
        "df = pd.DataFrame({'docs':docs,\n",
        "                   'targets':targets\n",
        "                   })\n",
        "df\n",
        "plt.hist(targets, bins=20)\n",
        "plt.xticks(range(0,20))\n",
        "# len(df['targets'])"
      ]
    },
    {
      "cell_type": "code",
      "execution_count": 8,
      "metadata": {
        "colab": {
          "base_uri": "https://localhost:8080/"
        },
        "id": "ES1lrZtmFOOk",
        "outputId": "19734ece-3931-4574-b336-0131d44a184e"
      },
      "outputs": [
        {
          "data": {
            "text/plain": [
              "array([480, 584, 591, 590, 578, 593, 585, 594, 598, 597, 600, 595, 591,\n",
              "       594, 593, 599, 546, 564, 465, 377], dtype=int64)"
            ]
          },
          "execution_count": 8,
          "metadata": {},
          "output_type": "execute_result"
        }
      ],
      "source": [
        "Y, X = np.unique(targets, return_counts=True)\n",
        "Y\n",
        "X"
      ]
    },
    {
      "cell_type": "markdown",
      "metadata": {
        "id": "CBmTXeqpcq5W"
      },
      "source": [
        "## Exercise 3: Engineer the Data\n",
        "Extract features from raw text. You are free to be creative here. There is no correct answer. Try and think of the features (input) that are most predictive of the category. Some helpful sklearn feature engineering code can be found here (I'd recommend reading through the documentation before diving in and trying to get these tools to work):\n",
        "\n",
        "* [CountVectorizer](https://scikit-learn.org/stable/modules/generated/sklearn.feature_extraction.text.CountVectorizer.html#sklearn.feature_extraction.text.CountVectorizer)\n",
        "* [TFIDF Text Features](https://scikit-learn.org/stable/modules/generated/sklearn.feature_extraction.text.TfidfVectorizer.html)"
      ]
    },
    {
      "cell_type": "code",
      "execution_count": 9,
      "metadata": {
        "id": "M18gziAZifj0"
      },
      "outputs": [],
      "source": [
        "# Enter code here to engineer the data\n",
        "from sklearn.feature_extraction.text import CountVectorizer"
      ]
    },
    {
      "cell_type": "code",
      "execution_count": 10,
      "metadata": {
        "id": "dy_DFjkyLjJk"
      },
      "outputs": [],
      "source": [
        "X = docs\n",
        "y = targets"
      ]
    },
    {
      "cell_type": "code",
      "execution_count": 11,
      "metadata": {
        "id": "YH32vx8zjsch"
      },
      "outputs": [],
      "source": [
        "cv = CountVectorizer()\n",
        "X = cv.fit_transform(docs)\n",
        "# X = X.toarray()"
      ]
    },
    {
      "cell_type": "code",
      "execution_count": 12,
      "metadata": {
        "id": "PoAqWXXgj4Yd"
      },
      "outputs": [],
      "source": [
        "from sklearn.feature_extraction.text import TfidfVectorizer"
      ]
    },
    {
      "cell_type": "code",
      "execution_count": 13,
      "metadata": {
        "id": "NteGLe5Aj-Gr"
      },
      "outputs": [],
      "source": [
        "X = docs\n",
        "tfidf = TfidfVectorizer()\n",
        "X = tfidf.fit_transform(X)"
      ]
    },
    {
      "cell_type": "markdown",
      "metadata": {
        "id": "JN4r2NSpc5hQ"
      },
      "source": [
        "## Exercise 4: Split the Data\n",
        "\n",
        "Split your data into train and test splits. Use an 80%/20% split rule for train and test respectively. I'd recommend using the function from the last lab"
      ]
    },
    {
      "cell_type": "code",
      "execution_count": 14,
      "metadata": {
        "id": "FS33bNPjQ5I4"
      },
      "outputs": [],
      "source": [
        "from sklearn.model_selection import train_test_split"
      ]
    },
    {
      "cell_type": "code",
      "execution_count": 15,
      "metadata": {
        "id": "C6uiqrStkxww"
      },
      "outputs": [],
      "source": [
        "xTrain, xTest, yTrain, yTest = train_test_split(X, y, test_size=.2)"
      ]
    },
    {
      "cell_type": "code",
      "execution_count": 16,
      "metadata": {
        "colab": {
          "base_uri": "https://localhost:8080/"
        },
        "id": "Fg7Xj301UlDC",
        "outputId": "d2563874-3170-4222-eb73-6eaa1d777caa"
      },
      "outputs": [
        {
          "data": {
            "text/plain": [
              "(9051, 130107)"
            ]
          },
          "execution_count": 16,
          "metadata": {},
          "output_type": "execute_result"
        }
      ],
      "source": [
        "xTrain.shape"
      ]
    },
    {
      "cell_type": "code",
      "execution_count": 17,
      "metadata": {
        "colab": {
          "base_uri": "https://localhost:8080/"
        },
        "id": "c1sYgxOGU_l8",
        "outputId": "a2daf1ff-7621-4aa0-a421-ea67e2880a58"
      },
      "outputs": [
        {
          "data": {
            "text/plain": [
              "(2263, 130107)"
            ]
          },
          "execution_count": 17,
          "metadata": {},
          "output_type": "execute_result"
        }
      ],
      "source": [
        "xTest.shape"
      ]
    },
    {
      "cell_type": "markdown",
      "metadata": {
        "id": "eW6QTIUxcz_G"
      },
      "source": [
        "## Exercise 5: Train the Model"
      ]
    },
    {
      "cell_type": "markdown",
      "metadata": {
        "id": "mNY2czLak_pA"
      },
      "source": [
        "Using sklearn, train the following three classifiers using the training set:\n",
        "* KNN\n",
        "* Decision Tree\n",
        "* Logistic Regression"
      ]
    },
    {
      "cell_type": "code",
      "execution_count": 18,
      "metadata": {
        "colab": {
          "base_uri": "https://localhost:8080/"
        },
        "id": "MIaBp38BlEzu",
        "outputId": "e8f8d4bb-9032-450c-cbc9-9b6e8884a8fc"
      },
      "outputs": [
        {
          "name": "stdout",
          "output_type": "stream",
          "text": [
            "n neighbors = 5:\n",
            "train score: 0.8669760247486465\n",
            "test score: 0.7688908528501989\n",
            "\n"
          ]
        }
      ],
      "source": [
        "# Train the model using the KNN Cluster Algorithm\n",
        "# Enter your code for Exercise 4 here\n",
        "from sklearn.neighbors import KNeighborsClassifier\n",
        "\n",
        "knn = KNeighborsClassifier(n_neighbors = 5)\n",
        "\n",
        "knn = knn.fit(xTrain, yTrain)\n",
        "\n",
        "print('n neighbors = 5:')\n",
        "print('train score:', knn.score(xTrain, yTrain))\n",
        "print('test score:', knn.score(xTest, yTest))\n",
        "print()\n",
        "\n",
        "neighbors = []\n",
        "train_scores = []\n",
        "test_scores = []\n",
        "# for i in range(1,21):\n",
        "#   knn = KNeighborsClassifier(n_neighbors = i)\n",
        "\n",
        "#   knn.fit(xTrain, yTrain)\n",
        "\n",
        "#   neighbors.append(i)\n",
        "#   train_scores.append(knn.score(xTrain, yTrain))\n",
        "#   test_scores.append(knn.score(xTest, yTest))\n",
        "#   print('n neighbors:', i)\n",
        "#   print('train score:', knn.score(xTrain, yTrain))\n",
        "#   print('test score:', knn.score(xTest, yTest))\n",
        "#   print()"
      ]
    },
    {
      "cell_type": "code",
      "execution_count": 19,
      "metadata": {
        "colab": {
          "base_uri": "https://localhost:8080/",
          "height": 450
        },
        "id": "CgWm_YNq6P6V",
        "outputId": "3e037777-80ca-4c84-fe39-c2f6a7107461"
      },
      "outputs": [
        {
          "data": {
            "image/png": "[encoded data removed]",
            "text/plain": [
              "<Figure size 640x480 with 1 Axes>"
            ]
          },
          "metadata": {},
          "output_type": "display_data"
        }
      ],
      "source": [
        "import pandas as pd\n",
        "neighbors, train_scores, test_scores = np.array(neighbors), np.array(train_scores), np.array(test_scores)\n",
        "\n",
        "fig, ax = plt.subplots()\n",
        "\n",
        "ax.plot(neighbors, train_scores)\n",
        "ax.plot(neighbors, test_scores)\n",
        "\n",
        "classes = ['train scores', 'test scores']\n",
        "ax.set_xlabel('n_neighbors')\n",
        "ax.set_ylabel('scores')\n",
        "\n",
        "plt.legend(classes)\n",
        "plt.show()"
      ]
    },
    {
      "cell_type": "code",
      "execution_count": 20,
      "metadata": {
        "id": "xSINn2VklIH9"
      },
      "outputs": [],
      "source": [
        "# Train the model using the Decision Tree Algorithm\n",
        "from sklearn import tree"
      ]
    },
    {
      "cell_type": "code",
      "execution_count": 21,
      "metadata": {
        "id": "Yvj4cBhu210f"
      },
      "outputs": [],
      "source": [
        "classifier = tree.DecisionTreeClassifier()"
      ]
    },
    {
      "cell_type": "code",
      "execution_count": 22,
      "metadata": {
        "colab": {
          "base_uri": "https://localhost:8080/",
          "height": 74
        },
        "id": "gvbBaH3726h4",
        "outputId": "5d0329d5-97cb-45aa-980c-7bfeef6aaa4b"
      },
      "outputs": [
        {
          "data": {
            "text/plain": [
              "DecisionTreeClassifier()"
            ]
          },
          "execution_count": 22,
          "metadata": {},
          "output_type": "execute_result"
        }
      ],
      "source": [
        "classifier.fit(X=xTrain, y=yTrain)"
      ]
    },
    {
      "cell_type": "code",
      "execution_count": 23,
      "metadata": {
        "id": "g5n7yi5H3JTO"
      },
      "outputs": [],
      "source": [
        "y_hat = classifier.predict(xTest)"
      ]
    },
    {
      "cell_type": "code",
      "execution_count": 24,
      "metadata": {
        "id": "FTgvoJzK3NY4"
      },
      "outputs": [],
      "source": [
        "y_hat.shape\n",
        "y_hat_probs = classifier.predict_proba(xTest)"
      ]
    },
    {
      "cell_type": "code",
      "execution_count": 25,
      "metadata": {
        "id": "8CHK_Y303YKq"
      },
      "outputs": [],
      "source": [
        "def get_accuracy(y_true, y_hat):\n",
        "  return np.mean(y_true == y_hat)"
      ]
    },
    {
      "cell_type": "code",
      "execution_count": 26,
      "metadata": {
        "colab": {
          "base_uri": "https://localhost:8080/"
        },
        "id": "yvxLEox03ZMU",
        "outputId": "5eb12f45-139e-474f-ae7b-c45cced020ea"
      },
      "outputs": [
        {
          "data": {
            "text/plain": [
              "0.6341140079540433"
            ]
          },
          "execution_count": 26,
          "metadata": {},
          "output_type": "execute_result"
        }
      ],
      "source": [
        "get_accuracy(yTest, y_hat)"
      ]
    },
    {
      "cell_type": "code",
      "execution_count": 27,
      "metadata": {
        "id": "ZayZjHO1lNXG"
      },
      "outputs": [],
      "source": [
        "# Train the model using the Logistic Regression Algorithm\n",
        "from sklearn.linear_model import LogisticRegression"
      ]
    },
    {
      "cell_type": "code",
      "execution_count": 28,
      "metadata": {
        "colab": {
          "base_uri": "https://localhost:8080/",
          "height": 74
        },
        "id": "uZrYYVDJ4Bhe",
        "outputId": "82885207-9a4e-4a0e-f5bf-890913f2c514"
      },
      "outputs": [
        {
          "data": {
            "text/plain": [
              "LogisticRegression(max_iter=1000)"
            ]
          },
          "execution_count": 28,
          "metadata": {},
          "output_type": "execute_result"
        }
      ],
      "source": [
        "model = LogisticRegression(max_iter=1000)\n",
        "model.fit(xTrain, yTrain)"
      ]
    },
    {
      "cell_type": "code",
      "execution_count": 29,
      "metadata": {
        "colab": {
          "base_uri": "https://localhost:8080/"
        },
        "id": "b9rIbMqy4E6G",
        "outputId": "aed9d451-b00b-4f44-a40e-1b63336631a5"
      },
      "outputs": [
        {
          "data": {
            "text/plain": [
              "0.8930623066725586"
            ]
          },
          "execution_count": 29,
          "metadata": {},
          "output_type": "execute_result"
        }
      ],
      "source": [
        "model.score(xTest, yTest)"
      ]
    },
    {
      "cell_type": "markdown",
      "metadata": {
        "id": "gRC3UrQjdOtM"
      },
      "source": [
        "## Exercise 6: Evaluate the Model\n",
        "Compare the performance of your classifiers on the test set. Discuss which one performs the best."
      ]
    },
    {
      "cell_type": "code",
      "execution_count": 30,
      "metadata": {
        "colab": {
          "base_uri": "https://localhost:8080/"
        },
        "id": "fviUlnNZl_Ek",
        "outputId": "243429a3-b889-443f-e085-12352c896dc4"
      },
      "outputs": [
        {
          "name": "stdout",
          "output_type": "stream",
          "text": [
            "n neighbors = 1:\n",
            "train score: 0.9998895149707214\n",
            "test score: 0.8179407865665046\n"
          ]
        }
      ],
      "source": [
        "# Evaluate the KNN Cluster model\n",
        "from sklearn.neighbors import KNeighborsClassifier\n",
        "\n",
        "knn = KNeighborsClassifier(n_neighbors = 1)\n",
        "\n",
        "knn = knn.fit(xTrain, yTrain)\n",
        "\n",
        "print('n neighbors = 1:')\n",
        "print('train score:', knn.score(xTrain, yTrain))\n",
        "print('test score:', knn.score(xTest, yTest))"
      ]
    },
    {
      "cell_type": "code",
      "execution_count": 31,
      "metadata": {
        "colab": {
          "base_uri": "https://localhost:8080/"
        },
        "id": "NFysD0Krl9-n",
        "outputId": "b8cd5e63-d4a6-478a-c44b-9292368c5d3d"
      },
      "outputs": [
        {
          "data": {
            "text/plain": [
              "0.6341140079540433"
            ]
          },
          "execution_count": 31,
          "metadata": {},
          "output_type": "execute_result"
        }
      ],
      "source": [
        "# Evaluate the Decision Tree model\n",
        "get_accuracy(yTest, y_hat)"
      ]
    },
    {
      "cell_type": "code",
      "execution_count": 32,
      "metadata": {
        "colab": {
          "base_uri": "https://localhost:8080/"
        },
        "id": "FVjIpzzxl8E-",
        "outputId": "70916ca3-0727-4f4f-d6cc-4c48cf268f2c"
      },
      "outputs": [
        {
          "data": {
            "text/plain": [
              "0.8930623066725586"
            ]
          },
          "execution_count": 32,
          "metadata": {},
          "output_type": "execute_result"
        }
      ],
      "source": [
        "# Evaluate the Logistic Regression model\n",
        "model.score(xTest, yTest)"
      ]
    },
    {
      "cell_type": "markdown",
      "metadata": {
        "id": "ofWWlon9mqUw"
      },
      "source": [
        "Discuss which one performs the best:"
      ]
    },
    {
      "cell_type": "markdown",
      "metadata": {
        "id": "rLE2qUqpmu0P"
      },
      "source": [
        "I was surprised to find that the Logistic Regression Model performed the best with a score of 0.88, with the Decision Tree Model at 0.64 and the KNN Model at 0.58.\n",
        "\n",
        "I found that the KNN model clearly performed the best when n_neighbors was 1.\n",
        "\n",
        "I tried to use the TfidfVectorizer, but it ran very, very slow. I suspect it would be faster on my machine than Colabs' free cloud computing, so I'll try that too."
      ]
    },
    {
      "cell_type": "markdown",
      "metadata": {},
      "source": []
    }
  ],
  "metadata": {
    "colab": {
      "provenance": []
    },
    "kernelspec": {
      "display_name": "Python 3",
      "language": "python",
      "name": "python3"
    },
    "language_info": {
      "codemirror_mode": {
        "name": "ipython",
        "version": 3
      },
      "file_extension": ".py",
      "mimetype": "text/x-python",
      "name": "python",
      "nbconvert_exporter": "python",
      "pygments_lexer": "ipython3",
      "version": "3.7.9"
    },
    "vscode": {
      "interpreter": {
        "hash": "74d1ed094ce8ef92a718ccbf8e20ac313063b0bc8b3167b4dea4d5284ca4fc49"
      }
    }
  },
  "nbformat": 4,
  "nbformat_minor": 0
}
